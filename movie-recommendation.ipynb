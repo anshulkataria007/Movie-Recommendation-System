{
 "cells": [
  {
   "cell_type": "code",
   "execution_count": 1,
   "metadata": {
    "_cell_guid": "b1076dfc-b9ad-4769-8c92-a6c4dae69d19",
    "_uuid": "8f2839f25d086af736a60e9eeb907d3b93b6e0e5",
    "execution": {
     "iopub.execute_input": "2021-02-15T05:47:22.901870Z",
     "iopub.status.busy": "2021-02-15T05:47:22.901220Z",
     "iopub.status.idle": "2021-02-15T05:47:22.937575Z",
     "shell.execute_reply": "2021-02-15T05:47:22.938077Z"
    },
    "papermill": {
     "duration": 0.057354,
     "end_time": "2021-02-15T05:47:22.938413",
     "exception": false,
     "start_time": "2021-02-15T05:47:22.881059",
     "status": "completed"
    },
    "tags": []
   },
   "outputs": [
    {
     "name": "stdout",
     "output_type": "stream",
     "text": [
      "/kaggle/input/movielens-100k-dataset/ml-100k/u.occupation\n",
      "/kaggle/input/movielens-100k-dataset/ml-100k/u1.base\n",
      "/kaggle/input/movielens-100k-dataset/ml-100k/u.info\n",
      "/kaggle/input/movielens-100k-dataset/ml-100k/u4.test\n",
      "/kaggle/input/movielens-100k-dataset/ml-100k/u.item\n",
      "/kaggle/input/movielens-100k-dataset/ml-100k/README\n",
      "/kaggle/input/movielens-100k-dataset/ml-100k/u1.test\n",
      "/kaggle/input/movielens-100k-dataset/ml-100k/ua.test\n",
      "/kaggle/input/movielens-100k-dataset/ml-100k/u.data\n",
      "/kaggle/input/movielens-100k-dataset/ml-100k/u5.test\n",
      "/kaggle/input/movielens-100k-dataset/ml-100k/mku.sh\n",
      "/kaggle/input/movielens-100k-dataset/ml-100k/u5.base\n",
      "/kaggle/input/movielens-100k-dataset/ml-100k/u.user\n",
      "/kaggle/input/movielens-100k-dataset/ml-100k/ub.base\n",
      "/kaggle/input/movielens-100k-dataset/ml-100k/u4.base\n",
      "/kaggle/input/movielens-100k-dataset/ml-100k/u2.test\n",
      "/kaggle/input/movielens-100k-dataset/ml-100k/ua.base\n",
      "/kaggle/input/movielens-100k-dataset/ml-100k/u3.test\n",
      "/kaggle/input/movielens-100k-dataset/ml-100k/u.genre\n",
      "/kaggle/input/movielens-100k-dataset/ml-100k/allbut.pl\n",
      "/kaggle/input/movielens-100k-dataset/ml-100k/u3.base\n",
      "/kaggle/input/movielens-100k-dataset/ml-100k/u2.base\n",
      "/kaggle/input/movielens-100k-dataset/ml-100k/ub.test\n"
     ]
    }
   ],
   "source": [
    "# This Python 3 environment comes with many helpful analytics libraries installed\n",
    "# It is defined by the kaggle/python Docker image: https://github.com/kaggle/docker-python\n",
    "# For example, here's several helpful packages to load\n",
    "\n",
    "import numpy as np # linear algebra\n",
    "import pandas as pd # data processing, CSV file I/O (e.g. pd.read_csv)\n",
    "\n",
    "# Input data files are available in the read-only \"../input/\" directory\n",
    "# For example, running this (by clicking run or pressing Shift+Enter) will list all files under the input directory\n",
    "\n",
    "import os\n",
    "for dirname, _, filenames in os.walk('/kaggle/input'):\n",
    "    for filename in filenames:\n",
    "        print(os.path.join(dirname, filename))\n",
    "\n",
    "# You can write up to 20GB to the current directory (/kaggle/working/) that gets preserved as output when you create a version using \"Save & Run All\" \n",
    "# You can also write temporary files to /kaggle/temp/, but they won't be saved outside of the current session"
   ]
  },
  {
   "cell_type": "code",
   "execution_count": 2,
   "metadata": {
    "execution": {
     "iopub.execute_input": "2021-02-15T05:47:22.975402Z",
     "iopub.status.busy": "2021-02-15T05:47:22.974774Z",
     "iopub.status.idle": "2021-02-15T05:47:22.979634Z",
     "shell.execute_reply": "2021-02-15T05:47:22.978980Z"
    },
    "papermill": {
     "duration": 0.024171,
     "end_time": "2021-02-15T05:47:22.979780",
     "exception": false,
     "start_time": "2021-02-15T05:47:22.955609",
     "status": "completed"
    },
    "tags": []
   },
   "outputs": [],
   "source": [
    "import warnings\n",
    "warnings.filterwarnings('ignore')"
   ]
  },
  {
   "cell_type": "code",
   "execution_count": 3,
   "metadata": {
    "execution": {
     "iopub.execute_input": "2021-02-15T05:47:23.016398Z",
     "iopub.status.busy": "2021-02-15T05:47:23.015651Z",
     "iopub.status.idle": "2021-02-15T05:47:23.128245Z",
     "shell.execute_reply": "2021-02-15T05:47:23.127521Z"
    },
    "papermill": {
     "duration": 0.131997,
     "end_time": "2021-02-15T05:47:23.128389",
     "exception": false,
     "start_time": "2021-02-15T05:47:22.996392",
     "status": "completed"
    },
    "tags": []
   },
   "outputs": [],
   "source": [
    "columns_name=['user_id',\"item_id\",\"rating\",\"timestamp\"]\n",
    "df=pd.read_csv(\"../input/movielens-100k-dataset/ml-100k/u.data\",sep='\\t',names=columns_name)"
   ]
  },
  {
   "cell_type": "code",
   "execution_count": 4,
   "metadata": {
    "execution": {
     "iopub.execute_input": "2021-02-15T05:47:23.175581Z",
     "iopub.status.busy": "2021-02-15T05:47:23.174875Z",
     "iopub.status.idle": "2021-02-15T05:47:23.193959Z",
     "shell.execute_reply": "2021-02-15T05:47:23.193296Z"
    },
    "papermill": {
     "duration": 0.04827,
     "end_time": "2021-02-15T05:47:23.194100",
     "exception": false,
     "start_time": "2021-02-15T05:47:23.145830",
     "status": "completed"
    },
    "tags": []
   },
   "outputs": [
    {
     "data": {
      "text/html": [
       "<div>\n",
       "<style scoped>\n",
       "    .dataframe tbody tr th:only-of-type {\n",
       "        vertical-align: middle;\n",
       "    }\n",
       "\n",
       "    .dataframe tbody tr th {\n",
       "        vertical-align: top;\n",
       "    }\n",
       "\n",
       "    .dataframe thead th {\n",
       "        text-align: right;\n",
       "    }\n",
       "</style>\n",
       "<table border=\"1\" class=\"dataframe\">\n",
       "  <thead>\n",
       "    <tr style=\"text-align: right;\">\n",
       "      <th></th>\n",
       "      <th>user_id</th>\n",
       "      <th>item_id</th>\n",
       "      <th>rating</th>\n",
       "      <th>timestamp</th>\n",
       "    </tr>\n",
       "  </thead>\n",
       "  <tbody>\n",
       "    <tr>\n",
       "      <th>0</th>\n",
       "      <td>196</td>\n",
       "      <td>242</td>\n",
       "      <td>3</td>\n",
       "      <td>881250949</td>\n",
       "    </tr>\n",
       "    <tr>\n",
       "      <th>1</th>\n",
       "      <td>186</td>\n",
       "      <td>302</td>\n",
       "      <td>3</td>\n",
       "      <td>891717742</td>\n",
       "    </tr>\n",
       "    <tr>\n",
       "      <th>2</th>\n",
       "      <td>22</td>\n",
       "      <td>377</td>\n",
       "      <td>1</td>\n",
       "      <td>878887116</td>\n",
       "    </tr>\n",
       "    <tr>\n",
       "      <th>3</th>\n",
       "      <td>244</td>\n",
       "      <td>51</td>\n",
       "      <td>2</td>\n",
       "      <td>880606923</td>\n",
       "    </tr>\n",
       "    <tr>\n",
       "      <th>4</th>\n",
       "      <td>166</td>\n",
       "      <td>346</td>\n",
       "      <td>1</td>\n",
       "      <td>886397596</td>\n",
       "    </tr>\n",
       "  </tbody>\n",
       "</table>\n",
       "</div>"
      ],
      "text/plain": [
       "   user_id  item_id  rating  timestamp\n",
       "0      196      242       3  881250949\n",
       "1      186      302       3  891717742\n",
       "2       22      377       1  878887116\n",
       "3      244       51       2  880606923\n",
       "4      166      346       1  886397596"
      ]
     },
     "execution_count": 4,
     "metadata": {},
     "output_type": "execute_result"
    }
   ],
   "source": [
    "df.head()"
   ]
  },
  {
   "cell_type": "code",
   "execution_count": 5,
   "metadata": {
    "execution": {
     "iopub.execute_input": "2021-02-15T05:47:23.232700Z",
     "iopub.status.busy": "2021-02-15T05:47:23.232032Z",
     "iopub.status.idle": "2021-02-15T05:47:23.238907Z",
     "shell.execute_reply": "2021-02-15T05:47:23.238203Z"
    },
    "papermill": {
     "duration": 0.027141,
     "end_time": "2021-02-15T05:47:23.239091",
     "exception": false,
     "start_time": "2021-02-15T05:47:23.211950",
     "status": "completed"
    },
    "tags": []
   },
   "outputs": [
    {
     "data": {
      "text/plain": [
       "(100000, 4)"
      ]
     },
     "execution_count": 5,
     "metadata": {},
     "output_type": "execute_result"
    }
   ],
   "source": [
    "df.shape"
   ]
  },
  {
   "cell_type": "code",
   "execution_count": 6,
   "metadata": {
    "execution": {
     "iopub.execute_input": "2021-02-15T05:47:23.280491Z",
     "iopub.status.busy": "2021-02-15T05:47:23.279814Z",
     "iopub.status.idle": "2021-02-15T05:47:23.344039Z",
     "shell.execute_reply": "2021-02-15T05:47:23.343477Z"
    },
    "papermill": {
     "duration": 0.08692,
     "end_time": "2021-02-15T05:47:23.344215",
     "exception": false,
     "start_time": "2021-02-15T05:47:23.257295",
     "status": "completed"
    },
    "tags": []
   },
   "outputs": [],
   "source": [
    "movies_title = pd.read_csv(\"../input/movielens-100k-dataset/ml-100k/u.item\", sep=\"\\|\",header= None,encoding='latin-1')"
   ]
  },
  {
   "cell_type": "code",
   "execution_count": 7,
   "metadata": {
    "execution": {
     "iopub.execute_input": "2021-02-15T05:47:23.391599Z",
     "iopub.status.busy": "2021-02-15T05:47:23.390664Z",
     "iopub.status.idle": "2021-02-15T05:47:23.393461Z",
     "shell.execute_reply": "2021-02-15T05:47:23.392914Z"
    },
    "papermill": {
     "duration": 0.029982,
     "end_time": "2021-02-15T05:47:23.393602",
     "exception": false,
     "start_time": "2021-02-15T05:47:23.363620",
     "status": "completed"
    },
    "tags": []
   },
   "outputs": [],
   "source": [
    "movies_title=movies_title[[0,1]]"
   ]
  },
  {
   "cell_type": "code",
   "execution_count": 8,
   "metadata": {
    "execution": {
     "iopub.execute_input": "2021-02-15T05:47:23.436106Z",
     "iopub.status.busy": "2021-02-15T05:47:23.435135Z",
     "iopub.status.idle": "2021-02-15T05:47:23.438068Z",
     "shell.execute_reply": "2021-02-15T05:47:23.438590Z"
    },
    "papermill": {
     "duration": 0.02713,
     "end_time": "2021-02-15T05:47:23.438762",
     "exception": false,
     "start_time": "2021-02-15T05:47:23.411632",
     "status": "completed"
    },
    "tags": []
   },
   "outputs": [],
   "source": [
    "movies_title.columns=['item_id','title']"
   ]
  },
  {
   "cell_type": "code",
   "execution_count": 9,
   "metadata": {
    "execution": {
     "iopub.execute_input": "2021-02-15T05:47:23.484684Z",
     "iopub.status.busy": "2021-02-15T05:47:23.483692Z",
     "iopub.status.idle": "2021-02-15T05:47:23.487945Z",
     "shell.execute_reply": "2021-02-15T05:47:23.487472Z"
    },
    "papermill": {
     "duration": 0.031079,
     "end_time": "2021-02-15T05:47:23.488082",
     "exception": false,
     "start_time": "2021-02-15T05:47:23.457003",
     "status": "completed"
    },
    "tags": []
   },
   "outputs": [
    {
     "data": {
      "text/html": [
       "<div>\n",
       "<style scoped>\n",
       "    .dataframe tbody tr th:only-of-type {\n",
       "        vertical-align: middle;\n",
       "    }\n",
       "\n",
       "    .dataframe tbody tr th {\n",
       "        vertical-align: top;\n",
       "    }\n",
       "\n",
       "    .dataframe thead th {\n",
       "        text-align: right;\n",
       "    }\n",
       "</style>\n",
       "<table border=\"1\" class=\"dataframe\">\n",
       "  <thead>\n",
       "    <tr style=\"text-align: right;\">\n",
       "      <th></th>\n",
       "      <th>item_id</th>\n",
       "      <th>title</th>\n",
       "    </tr>\n",
       "  </thead>\n",
       "  <tbody>\n",
       "    <tr>\n",
       "      <th>0</th>\n",
       "      <td>1</td>\n",
       "      <td>Toy Story (1995)</td>\n",
       "    </tr>\n",
       "    <tr>\n",
       "      <th>1</th>\n",
       "      <td>2</td>\n",
       "      <td>GoldenEye (1995)</td>\n",
       "    </tr>\n",
       "    <tr>\n",
       "      <th>2</th>\n",
       "      <td>3</td>\n",
       "      <td>Four Rooms (1995)</td>\n",
       "    </tr>\n",
       "    <tr>\n",
       "      <th>3</th>\n",
       "      <td>4</td>\n",
       "      <td>Get Shorty (1995)</td>\n",
       "    </tr>\n",
       "    <tr>\n",
       "      <th>4</th>\n",
       "      <td>5</td>\n",
       "      <td>Copycat (1995)</td>\n",
       "    </tr>\n",
       "  </tbody>\n",
       "</table>\n",
       "</div>"
      ],
      "text/plain": [
       "   item_id              title\n",
       "0        1   Toy Story (1995)\n",
       "1        2   GoldenEye (1995)\n",
       "2        3  Four Rooms (1995)\n",
       "3        4  Get Shorty (1995)\n",
       "4        5     Copycat (1995)"
      ]
     },
     "execution_count": 9,
     "metadata": {},
     "output_type": "execute_result"
    }
   ],
   "source": [
    "movies_title.head()"
   ]
  },
  {
   "cell_type": "code",
   "execution_count": 10,
   "metadata": {
    "execution": {
     "iopub.execute_input": "2021-02-15T05:47:23.532127Z",
     "iopub.status.busy": "2021-02-15T05:47:23.531495Z",
     "iopub.status.idle": "2021-02-15T05:47:23.553072Z",
     "shell.execute_reply": "2021-02-15T05:47:23.552542Z"
    },
    "papermill": {
     "duration": 0.046499,
     "end_time": "2021-02-15T05:47:23.553235",
     "exception": false,
     "start_time": "2021-02-15T05:47:23.506736",
     "status": "completed"
    },
    "tags": []
   },
   "outputs": [],
   "source": [
    "df=pd.merge(df,movies_title,on=\"item_id\")"
   ]
  },
  {
   "cell_type": "code",
   "execution_count": 11,
   "metadata": {
    "execution": {
     "iopub.execute_input": "2021-02-15T05:47:23.601479Z",
     "iopub.status.busy": "2021-02-15T05:47:23.600680Z",
     "iopub.status.idle": "2021-02-15T05:47:23.603911Z",
     "shell.execute_reply": "2021-02-15T05:47:23.604407Z"
    },
    "papermill": {
     "duration": 0.032551,
     "end_time": "2021-02-15T05:47:23.604575",
     "exception": false,
     "start_time": "2021-02-15T05:47:23.572024",
     "status": "completed"
    },
    "tags": []
   },
   "outputs": [
    {
     "data": {
      "text/html": [
       "<div>\n",
       "<style scoped>\n",
       "    .dataframe tbody tr th:only-of-type {\n",
       "        vertical-align: middle;\n",
       "    }\n",
       "\n",
       "    .dataframe tbody tr th {\n",
       "        vertical-align: top;\n",
       "    }\n",
       "\n",
       "    .dataframe thead th {\n",
       "        text-align: right;\n",
       "    }\n",
       "</style>\n",
       "<table border=\"1\" class=\"dataframe\">\n",
       "  <thead>\n",
       "    <tr style=\"text-align: right;\">\n",
       "      <th></th>\n",
       "      <th>user_id</th>\n",
       "      <th>item_id</th>\n",
       "      <th>rating</th>\n",
       "      <th>timestamp</th>\n",
       "      <th>title</th>\n",
       "    </tr>\n",
       "  </thead>\n",
       "  <tbody>\n",
       "    <tr>\n",
       "      <th>99995</th>\n",
       "      <td>840</td>\n",
       "      <td>1674</td>\n",
       "      <td>4</td>\n",
       "      <td>891211682</td>\n",
       "      <td>Mamma Roma (1962)</td>\n",
       "    </tr>\n",
       "    <tr>\n",
       "      <th>99996</th>\n",
       "      <td>655</td>\n",
       "      <td>1640</td>\n",
       "      <td>3</td>\n",
       "      <td>888474646</td>\n",
       "      <td>Eighth Day, The (1996)</td>\n",
       "    </tr>\n",
       "    <tr>\n",
       "      <th>99997</th>\n",
       "      <td>655</td>\n",
       "      <td>1637</td>\n",
       "      <td>3</td>\n",
       "      <td>888984255</td>\n",
       "      <td>Girls Town (1996)</td>\n",
       "    </tr>\n",
       "    <tr>\n",
       "      <th>99998</th>\n",
       "      <td>655</td>\n",
       "      <td>1630</td>\n",
       "      <td>3</td>\n",
       "      <td>887428735</td>\n",
       "      <td>Silence of the Palace, The (Saimt el Qusur) (1...</td>\n",
       "    </tr>\n",
       "    <tr>\n",
       "      <th>99999</th>\n",
       "      <td>655</td>\n",
       "      <td>1641</td>\n",
       "      <td>3</td>\n",
       "      <td>887427810</td>\n",
       "      <td>Dadetown (1995)</td>\n",
       "    </tr>\n",
       "  </tbody>\n",
       "</table>\n",
       "</div>"
      ],
      "text/plain": [
       "       user_id  item_id  rating  timestamp  \\\n",
       "99995      840     1674       4  891211682   \n",
       "99996      655     1640       3  888474646   \n",
       "99997      655     1637       3  888984255   \n",
       "99998      655     1630       3  887428735   \n",
       "99999      655     1641       3  887427810   \n",
       "\n",
       "                                                   title  \n",
       "99995                                  Mamma Roma (1962)  \n",
       "99996                             Eighth Day, The (1996)  \n",
       "99997                                  Girls Town (1996)  \n",
       "99998  Silence of the Palace, The (Saimt el Qusur) (1...  \n",
       "99999                                    Dadetown (1995)  "
      ]
     },
     "execution_count": 11,
     "metadata": {},
     "output_type": "execute_result"
    }
   ],
   "source": [
    "df.tail()"
   ]
  },
  {
   "cell_type": "code",
   "execution_count": 12,
   "metadata": {
    "execution": {
     "iopub.execute_input": "2021-02-15T05:47:23.647656Z",
     "iopub.status.busy": "2021-02-15T05:47:23.645882Z",
     "iopub.status.idle": "2021-02-15T05:47:24.479203Z",
     "shell.execute_reply": "2021-02-15T05:47:24.478614Z"
    },
    "papermill": {
     "duration": 0.855487,
     "end_time": "2021-02-15T05:47:24.479358",
     "exception": false,
     "start_time": "2021-02-15T05:47:23.623871",
     "status": "completed"
    },
    "tags": []
   },
   "outputs": [],
   "source": [
    "import matplotlib.pyplot as plt\n",
    "import seaborn as sns\n",
    "sns.set_style('white')"
   ]
  },
  {
   "cell_type": "code",
   "execution_count": 13,
   "metadata": {
    "execution": {
     "iopub.execute_input": "2021-02-15T05:47:24.527787Z",
     "iopub.status.busy": "2021-02-15T05:47:24.527015Z",
     "iopub.status.idle": "2021-02-15T05:47:24.559376Z",
     "shell.execute_reply": "2021-02-15T05:47:24.558793Z"
    },
    "papermill": {
     "duration": 0.060496,
     "end_time": "2021-02-15T05:47:24.559518",
     "exception": false,
     "start_time": "2021-02-15T05:47:24.499022",
     "status": "completed"
    },
    "tags": []
   },
   "outputs": [
    {
     "data": {
      "text/plain": [
       "title\n",
       "They Made Me a Criminal (1939)                  5.0\n",
       "Marlene Dietrich: Shadow and Light (1996)       5.0\n",
       "Saint of Fort Washington, The (1993)            5.0\n",
       "Someone Else's America (1995)                   5.0\n",
       "Star Kid (1997)                                 5.0\n",
       "                                               ... \n",
       "Eye of Vichy, The (Oeil de Vichy, L') (1993)    1.0\n",
       "King of New York (1990)                         1.0\n",
       "Touki Bouki (Journey of the Hyena) (1973)       1.0\n",
       "Bloody Child, The (1996)                        1.0\n",
       "Crude Oasis, The (1995)                         1.0\n",
       "Name: rating, Length: 1664, dtype: float64"
      ]
     },
     "execution_count": 13,
     "metadata": {},
     "output_type": "execute_result"
    }
   ],
   "source": [
    "df.groupby('title').mean()['rating'].sort_values(ascending=False)"
   ]
  },
  {
   "cell_type": "code",
   "execution_count": 14,
   "metadata": {
    "execution": {
     "iopub.execute_input": "2021-02-15T05:47:24.608100Z",
     "iopub.status.busy": "2021-02-15T05:47:24.607481Z",
     "iopub.status.idle": "2021-02-15T05:47:24.630403Z",
     "shell.execute_reply": "2021-02-15T05:47:24.629836Z"
    },
    "papermill": {
     "duration": 0.050822,
     "end_time": "2021-02-15T05:47:24.630560",
     "exception": false,
     "start_time": "2021-02-15T05:47:24.579738",
     "status": "completed"
    },
    "tags": []
   },
   "outputs": [],
   "source": [
    "ratings=pd.DataFrame(df.groupby('title').mean()['rating'])"
   ]
  },
  {
   "cell_type": "code",
   "execution_count": 15,
   "metadata": {
    "execution": {
     "iopub.execute_input": "2021-02-15T05:47:24.680121Z",
     "iopub.status.busy": "2021-02-15T05:47:24.679237Z",
     "iopub.status.idle": "2021-02-15T05:47:24.683664Z",
     "shell.execute_reply": "2021-02-15T05:47:24.683125Z"
    },
    "papermill": {
     "duration": 0.033156,
     "end_time": "2021-02-15T05:47:24.683799",
     "exception": false,
     "start_time": "2021-02-15T05:47:24.650643",
     "status": "completed"
    },
    "tags": []
   },
   "outputs": [
    {
     "data": {
      "text/html": [
       "<div>\n",
       "<style scoped>\n",
       "    .dataframe tbody tr th:only-of-type {\n",
       "        vertical-align: middle;\n",
       "    }\n",
       "\n",
       "    .dataframe tbody tr th {\n",
       "        vertical-align: top;\n",
       "    }\n",
       "\n",
       "    .dataframe thead th {\n",
       "        text-align: right;\n",
       "    }\n",
       "</style>\n",
       "<table border=\"1\" class=\"dataframe\">\n",
       "  <thead>\n",
       "    <tr style=\"text-align: right;\">\n",
       "      <th></th>\n",
       "      <th>rating</th>\n",
       "    </tr>\n",
       "    <tr>\n",
       "      <th>title</th>\n",
       "      <th></th>\n",
       "    </tr>\n",
       "  </thead>\n",
       "  <tbody>\n",
       "    <tr>\n",
       "      <th>'Til There Was You (1997)</th>\n",
       "      <td>2.333333</td>\n",
       "    </tr>\n",
       "    <tr>\n",
       "      <th>1-900 (1994)</th>\n",
       "      <td>2.600000</td>\n",
       "    </tr>\n",
       "    <tr>\n",
       "      <th>101 Dalmatians (1996)</th>\n",
       "      <td>2.908257</td>\n",
       "    </tr>\n",
       "    <tr>\n",
       "      <th>12 Angry Men (1957)</th>\n",
       "      <td>4.344000</td>\n",
       "    </tr>\n",
       "    <tr>\n",
       "      <th>187 (1997)</th>\n",
       "      <td>3.024390</td>\n",
       "    </tr>\n",
       "  </tbody>\n",
       "</table>\n",
       "</div>"
      ],
      "text/plain": [
       "                             rating\n",
       "title                              \n",
       "'Til There Was You (1997)  2.333333\n",
       "1-900 (1994)               2.600000\n",
       "101 Dalmatians (1996)      2.908257\n",
       "12 Angry Men (1957)        4.344000\n",
       "187 (1997)                 3.024390"
      ]
     },
     "execution_count": 15,
     "metadata": {},
     "output_type": "execute_result"
    }
   ],
   "source": [
    "ratings.head()"
   ]
  },
  {
   "cell_type": "code",
   "execution_count": 16,
   "metadata": {
    "execution": {
     "iopub.execute_input": "2021-02-15T05:47:24.739977Z",
     "iopub.status.busy": "2021-02-15T05:47:24.739327Z",
     "iopub.status.idle": "2021-02-15T05:47:24.757646Z",
     "shell.execute_reply": "2021-02-15T05:47:24.757005Z"
    },
    "papermill": {
     "duration": 0.053338,
     "end_time": "2021-02-15T05:47:24.757806",
     "exception": false,
     "start_time": "2021-02-15T05:47:24.704468",
     "status": "completed"
    },
    "tags": []
   },
   "outputs": [],
   "source": [
    "ratings['num of ratings']= pd.DataFrame(df.groupby('title').count()['rating'])"
   ]
  },
  {
   "cell_type": "code",
   "execution_count": 17,
   "metadata": {
    "execution": {
     "iopub.execute_input": "2021-02-15T05:47:24.808942Z",
     "iopub.status.busy": "2021-02-15T05:47:24.807969Z",
     "iopub.status.idle": "2021-02-15T05:47:24.817753Z",
     "shell.execute_reply": "2021-02-15T05:47:24.818199Z"
    },
    "papermill": {
     "duration": 0.036542,
     "end_time": "2021-02-15T05:47:24.818369",
     "exception": false,
     "start_time": "2021-02-15T05:47:24.781827",
     "status": "completed"
    },
    "tags": []
   },
   "outputs": [
    {
     "data": {
      "text/html": [
       "<div>\n",
       "<style scoped>\n",
       "    .dataframe tbody tr th:only-of-type {\n",
       "        vertical-align: middle;\n",
       "    }\n",
       "\n",
       "    .dataframe tbody tr th {\n",
       "        vertical-align: top;\n",
       "    }\n",
       "\n",
       "    .dataframe thead th {\n",
       "        text-align: right;\n",
       "    }\n",
       "</style>\n",
       "<table border=\"1\" class=\"dataframe\">\n",
       "  <thead>\n",
       "    <tr style=\"text-align: right;\">\n",
       "      <th></th>\n",
       "      <th>rating</th>\n",
       "      <th>num of ratings</th>\n",
       "    </tr>\n",
       "    <tr>\n",
       "      <th>title</th>\n",
       "      <th></th>\n",
       "      <th></th>\n",
       "    </tr>\n",
       "  </thead>\n",
       "  <tbody>\n",
       "    <tr>\n",
       "      <th>'Til There Was You (1997)</th>\n",
       "      <td>2.333333</td>\n",
       "      <td>9</td>\n",
       "    </tr>\n",
       "    <tr>\n",
       "      <th>1-900 (1994)</th>\n",
       "      <td>2.600000</td>\n",
       "      <td>5</td>\n",
       "    </tr>\n",
       "    <tr>\n",
       "      <th>101 Dalmatians (1996)</th>\n",
       "      <td>2.908257</td>\n",
       "      <td>109</td>\n",
       "    </tr>\n",
       "    <tr>\n",
       "      <th>12 Angry Men (1957)</th>\n",
       "      <td>4.344000</td>\n",
       "      <td>125</td>\n",
       "    </tr>\n",
       "    <tr>\n",
       "      <th>187 (1997)</th>\n",
       "      <td>3.024390</td>\n",
       "      <td>41</td>\n",
       "    </tr>\n",
       "    <tr>\n",
       "      <th>...</th>\n",
       "      <td>...</td>\n",
       "      <td>...</td>\n",
       "    </tr>\n",
       "    <tr>\n",
       "      <th>Young Guns II (1990)</th>\n",
       "      <td>2.772727</td>\n",
       "      <td>44</td>\n",
       "    </tr>\n",
       "    <tr>\n",
       "      <th>Young Poisoner's Handbook, The (1995)</th>\n",
       "      <td>3.341463</td>\n",
       "      <td>41</td>\n",
       "    </tr>\n",
       "    <tr>\n",
       "      <th>Zeus and Roxanne (1997)</th>\n",
       "      <td>2.166667</td>\n",
       "      <td>6</td>\n",
       "    </tr>\n",
       "    <tr>\n",
       "      <th>unknown</th>\n",
       "      <td>3.444444</td>\n",
       "      <td>9</td>\n",
       "    </tr>\n",
       "    <tr>\n",
       "      <th>Á köldum klaka (Cold Fever) (1994)</th>\n",
       "      <td>3.000000</td>\n",
       "      <td>1</td>\n",
       "    </tr>\n",
       "  </tbody>\n",
       "</table>\n",
       "<p>1664 rows × 2 columns</p>\n",
       "</div>"
      ],
      "text/plain": [
       "                                         rating  num of ratings\n",
       "title                                                          \n",
       "'Til There Was You (1997)              2.333333               9\n",
       "1-900 (1994)                           2.600000               5\n",
       "101 Dalmatians (1996)                  2.908257             109\n",
       "12 Angry Men (1957)                    4.344000             125\n",
       "187 (1997)                             3.024390              41\n",
       "...                                         ...             ...\n",
       "Young Guns II (1990)                   2.772727              44\n",
       "Young Poisoner's Handbook, The (1995)  3.341463              41\n",
       "Zeus and Roxanne (1997)                2.166667               6\n",
       "unknown                                3.444444               9\n",
       "Á köldum klaka (Cold Fever) (1994)     3.000000               1\n",
       "\n",
       "[1664 rows x 2 columns]"
      ]
     },
     "execution_count": 17,
     "metadata": {},
     "output_type": "execute_result"
    }
   ],
   "source": [
    "ratings"
   ]
  },
  {
   "cell_type": "code",
   "execution_count": 18,
   "metadata": {
    "execution": {
     "iopub.execute_input": "2021-02-15T05:47:24.865506Z",
     "iopub.status.busy": "2021-02-15T05:47:24.864476Z",
     "iopub.status.idle": "2021-02-15T05:47:25.203928Z",
     "shell.execute_reply": "2021-02-15T05:47:25.203272Z"
    },
    "papermill": {
     "duration": 0.364227,
     "end_time": "2021-02-15T05:47:25.204084",
     "exception": false,
     "start_time": "2021-02-15T05:47:24.839857",
     "status": "completed"
    },
    "tags": []
   },
   "outputs": [
    {
     "data": {
      "image/png": "[encoded data removed]",
      "text/plain": [
       "<Figure size 432x288 with 1 Axes>"
      ]
     },
     "metadata": {},
     "output_type": "display_data"
    }
   ],
   "source": [
    "plt.hist(ratings['num of ratings'], bins=70)\n",
    "plt.xlabel('No of ratings')\n",
    "plt.ylabel('no of times rating occured')\n",
    "plt.show()"
   ]
  },
  {
   "cell_type": "code",
   "execution_count": 19,
   "metadata": {
    "execution": {
     "iopub.execute_input": "2021-02-15T05:47:25.354038Z",
     "iopub.status.busy": "2021-02-15T05:47:25.351297Z",
     "iopub.status.idle": "2021-02-15T05:47:25.662730Z",
     "shell.execute_reply": "2021-02-15T05:47:25.662147Z"
    },
    "papermill": {
     "duration": 0.436002,
     "end_time": "2021-02-15T05:47:25.662874",
     "exception": false,
     "start_time": "2021-02-15T05:47:25.226872",
     "status": "completed"
    },
    "tags": []
   },
   "outputs": [
    {
     "data": {
      "image/png": "[encoded data removed]",
      "text/plain": [
       "<Figure size 432x288 with 1 Axes>"
      ]
     },
     "metadata": {},
     "output_type": "display_data"
    }
   ],
   "source": [
    "plt.hist(ratings['rating'],bins=70)\n",
    "plt.xlabel('movie rating')\n",
    "plt.ylabel('no of peoples')\n",
    "plt.show()"
   ]
  },
  {
   "cell_type": "code",
   "execution_count": 20,
   "metadata": {
    "execution": {
     "iopub.execute_input": "2021-02-15T05:47:25.731658Z",
     "iopub.status.busy": "2021-02-15T05:47:25.729668Z",
     "iopub.status.idle": "2021-02-15T05:47:26.409270Z",
     "shell.execute_reply": "2021-02-15T05:47:26.409767Z"
    },
    "papermill": {
     "duration": 0.723554,
     "end_time": "2021-02-15T05:47:26.409954",
     "exception": false,
     "start_time": "2021-02-15T05:47:25.686400",
     "status": "completed"
    },
    "tags": []
   },
   "outputs": [
    {
     "data": {
      "text/plain": [
       "<seaborn.axisgrid.JointGrid at 0x7f960507c710>"
      ]
     },
     "execution_count": 20,
     "metadata": {},
     "output_type": "execute_result"
    },
    {
     "data": {
      "image/png": "[encoded data removed]",
      "text/plain": [
       "<Figure size 432x432 with 3 Axes>"
      ]
     },
     "metadata": {},
     "output_type": "display_data"
    }
   ],
   "source": [
    "sns.jointplot(x='rating',y='num of ratings',data=ratings,alpha=0.3)"
   ]
  },
  {
   "cell_type": "code",
   "execution_count": 21,
   "metadata": {
    "execution": {
     "iopub.execute_input": "2021-02-15T05:47:26.465063Z",
     "iopub.status.busy": "2021-02-15T05:47:26.464465Z",
     "iopub.status.idle": "2021-02-15T05:47:26.601044Z",
     "shell.execute_reply": "2021-02-15T05:47:26.601720Z"
    },
    "papermill": {
     "duration": 0.165502,
     "end_time": "2021-02-15T05:47:26.601903",
     "exception": false,
     "start_time": "2021-02-15T05:47:26.436401",
     "status": "completed"
    },
    "tags": []
   },
   "outputs": [],
   "source": [
    "moviemat=df.pivot_table(index=\"user_id\",columns=\"title\",values=\"rating\")"
   ]
  },
  {
   "cell_type": "code",
   "execution_count": 22,
   "metadata": {
    "execution": {
     "iopub.execute_input": "2021-02-15T05:47:26.656298Z",
     "iopub.status.busy": "2021-02-15T05:47:26.655649Z",
     "iopub.status.idle": "2021-02-15T05:47:26.665012Z",
     "shell.execute_reply": "2021-02-15T05:47:26.664383Z"
    },
    "papermill": {
     "duration": 0.037675,
     "end_time": "2021-02-15T05:47:26.665181",
     "exception": false,
     "start_time": "2021-02-15T05:47:26.627506",
     "status": "completed"
    },
    "tags": []
   },
   "outputs": [
    {
     "data": {
      "text/plain": [
       "user_id\n",
       "1    5.0\n",
       "2    5.0\n",
       "3    NaN\n",
       "4    5.0\n",
       "5    4.0\n",
       "Name: Star Wars (1977), dtype: float64"
      ]
     },
     "execution_count": 22,
     "metadata": {},
     "output_type": "execute_result"
    }
   ],
   "source": [
    "starwars_user_ratings = moviemat['Star Wars (1977)']\n",
    "starwars_user_ratings.head()"
   ]
  },
  {
   "cell_type": "code",
   "execution_count": 23,
   "metadata": {
    "execution": {
     "iopub.execute_input": "2021-02-15T05:47:26.722930Z",
     "iopub.status.busy": "2021-02-15T05:47:26.722107Z",
     "iopub.status.idle": "2021-02-15T05:47:27.259429Z",
     "shell.execute_reply": "2021-02-15T05:47:27.259954Z"
    },
    "papermill": {
     "duration": 0.568766,
     "end_time": "2021-02-15T05:47:27.260143",
     "exception": false,
     "start_time": "2021-02-15T05:47:26.691377",
     "status": "completed"
    },
    "tags": []
   },
   "outputs": [],
   "source": [
    "similar_to_starwars=moviemat.corrwith(starwars_user_ratings)"
   ]
  },
  {
   "cell_type": "code",
   "execution_count": 24,
   "metadata": {
    "execution": {
     "iopub.execute_input": "2021-02-15T05:47:27.316216Z",
     "iopub.status.busy": "2021-02-15T05:47:27.315229Z",
     "iopub.status.idle": "2021-02-15T05:47:27.321601Z",
     "shell.execute_reply": "2021-02-15T05:47:27.322250Z"
    },
    "papermill": {
     "duration": 0.036189,
     "end_time": "2021-02-15T05:47:27.322422",
     "exception": false,
     "start_time": "2021-02-15T05:47:27.286233",
     "status": "completed"
    },
    "tags": []
   },
   "outputs": [],
   "source": [
    "corr_starwars=pd.DataFrame(similar_to_starwars,columns=['Correlation'])\n",
    "corr_starwars.dropna(inplace=True)"
   ]
  },
  {
   "cell_type": "code",
   "execution_count": 25,
   "metadata": {
    "execution": {
     "iopub.execute_input": "2021-02-15T05:47:27.378326Z",
     "iopub.status.busy": "2021-02-15T05:47:27.377365Z",
     "iopub.status.idle": "2021-02-15T05:47:27.383219Z",
     "shell.execute_reply": "2021-02-15T05:47:27.383669Z"
    },
    "papermill": {
     "duration": 0.035414,
     "end_time": "2021-02-15T05:47:27.383855",
     "exception": false,
     "start_time": "2021-02-15T05:47:27.348441",
     "status": "completed"
    },
    "tags": []
   },
   "outputs": [],
   "source": [
    "def predict_movies(movie_name):\n",
    "    movie_user_ratings=moviemat[movie_name]\n",
    "    similar_to_movie=moviemat.corrwith(movie_user_ratings)\n",
    "    \n",
    "    corr_movie=pd.DataFrame(similar_to_movie,columns=['Correlation'])\n",
    "    corr_movie.dropna(inplace=True)\n",
    "    \n",
    "    corr_movie=corr_movie.join(ratings['num of ratings'])\n",
    "    predictions=corr_movie[corr_movie['num of ratings']>100].sort_values('Correlation',ascending=False)\n",
    "    \n",
    "    return predictions"
   ]
  },
  {
   "cell_type": "code",
   "execution_count": 26,
   "metadata": {
    "execution": {
     "iopub.execute_input": "2021-02-15T05:47:27.443151Z",
     "iopub.status.busy": "2021-02-15T05:47:27.440039Z",
     "iopub.status.idle": "2021-02-15T05:47:27.933764Z",
     "shell.execute_reply": "2021-02-15T05:47:27.934257Z"
    },
    "papermill": {
     "duration": 0.523668,
     "end_time": "2021-02-15T05:47:27.934439",
     "exception": false,
     "start_time": "2021-02-15T05:47:27.410771",
     "status": "completed"
    },
    "tags": []
   },
   "outputs": [
    {
     "data": {
      "text/html": [
       "<div>\n",
       "<style scoped>\n",
       "    .dataframe tbody tr th:only-of-type {\n",
       "        vertical-align: middle;\n",
       "    }\n",
       "\n",
       "    .dataframe tbody tr th {\n",
       "        vertical-align: top;\n",
       "    }\n",
       "\n",
       "    .dataframe thead th {\n",
       "        text-align: right;\n",
       "    }\n",
       "</style>\n",
       "<table border=\"1\" class=\"dataframe\">\n",
       "  <thead>\n",
       "    <tr style=\"text-align: right;\">\n",
       "      <th></th>\n",
       "      <th>Correlation</th>\n",
       "      <th>num of ratings</th>\n",
       "    </tr>\n",
       "    <tr>\n",
       "      <th>title</th>\n",
       "      <th></th>\n",
       "      <th></th>\n",
       "    </tr>\n",
       "  </thead>\n",
       "  <tbody>\n",
       "    <tr>\n",
       "      <th>Titanic (1997)</th>\n",
       "      <td>1.000000</td>\n",
       "      <td>350</td>\n",
       "    </tr>\n",
       "    <tr>\n",
       "      <th>River Wild, The (1994)</th>\n",
       "      <td>0.497600</td>\n",
       "      <td>146</td>\n",
       "    </tr>\n",
       "    <tr>\n",
       "      <th>Abyss, The (1989)</th>\n",
       "      <td>0.472103</td>\n",
       "      <td>151</td>\n",
       "    </tr>\n",
       "    <tr>\n",
       "      <th>Bram Stoker's Dracula (1992)</th>\n",
       "      <td>0.443560</td>\n",
       "      <td>120</td>\n",
       "    </tr>\n",
       "    <tr>\n",
       "      <th>True Lies (1994)</th>\n",
       "      <td>0.435104</td>\n",
       "      <td>208</td>\n",
       "    </tr>\n",
       "    <tr>\n",
       "      <th>...</th>\n",
       "      <td>...</td>\n",
       "      <td>...</td>\n",
       "    </tr>\n",
       "    <tr>\n",
       "      <th>Raging Bull (1980)</th>\n",
       "      <td>-0.223660</td>\n",
       "      <td>116</td>\n",
       "    </tr>\n",
       "    <tr>\n",
       "      <th>Jackie Brown (1997)</th>\n",
       "      <td>-0.236841</td>\n",
       "      <td>126</td>\n",
       "    </tr>\n",
       "    <tr>\n",
       "      <th>Brazil (1985)</th>\n",
       "      <td>-0.243532</td>\n",
       "      <td>208</td>\n",
       "    </tr>\n",
       "    <tr>\n",
       "      <th>Cold Comfort Farm (1995)</th>\n",
       "      <td>-0.307150</td>\n",
       "      <td>125</td>\n",
       "    </tr>\n",
       "    <tr>\n",
       "      <th>James and the Giant Peach (1996)</th>\n",
       "      <td>-0.370248</td>\n",
       "      <td>126</td>\n",
       "    </tr>\n",
       "  </tbody>\n",
       "</table>\n",
       "<p>334 rows × 2 columns</p>\n",
       "</div>"
      ],
      "text/plain": [
       "                                  Correlation  num of ratings\n",
       "title                                                        \n",
       "Titanic (1997)                       1.000000             350\n",
       "River Wild, The (1994)               0.497600             146\n",
       "Abyss, The (1989)                    0.472103             151\n",
       "Bram Stoker's Dracula (1992)         0.443560             120\n",
       "True Lies (1994)                     0.435104             208\n",
       "...                                       ...             ...\n",
       "Raging Bull (1980)                  -0.223660             116\n",
       "Jackie Brown (1997)                 -0.236841             126\n",
       "Brazil (1985)                       -0.243532             208\n",
       "Cold Comfort Farm (1995)            -0.307150             125\n",
       "James and the Giant Peach (1996)    -0.370248             126\n",
       "\n",
       "[334 rows x 2 columns]"
      ]
     },
     "execution_count": 26,
     "metadata": {},
     "output_type": "execute_result"
    }
   ],
   "source": [
    "predict_movies(\"Titanic (1997)\")"
   ]
  },
  {
   "cell_type": "code",
   "execution_count": null,
   "metadata": {
    "papermill": {
     "duration": 0.029283,
     "end_time": "2021-02-15T05:47:27.991299",
     "exception": false,
     "start_time": "2021-02-15T05:47:27.962016",
     "status": "completed"
    },
    "tags": []
   },
   "outputs": [],
   "source": []
  }
 ],
 "metadata": {
  "kernelspec": {
   "display_name": "Python 3",
   "language": "python",
   "name": "python3"
  },
  "language_info": {
   "codemirror_mode": {
    "name": "ipython",
    "version": 3
   },
   "file_extension": ".py",
   "mimetype": "text/x-python",
   "name": "python",
   "nbconvert_exporter": "python",
   "pygments_lexer": "ipython3",
   "version": "3.7.4"
  },
  "papermill": {
   "default_parameters": {},
   "duration": 11.60617,
   "end_time": "2021-02-15T05:47:28.628422",
   "environment_variables": {},
   "exception": null,
   "input_path": "__notebook__.ipynb",
   "output_path": "__notebook__.ipynb",
   "parameters": {},
   "start_time": "2021-02-15T05:47:17.022252",
   "version": "2.2.2"
  }
 },
 "nbformat": 4,
 "nbformat_minor": 4
}
